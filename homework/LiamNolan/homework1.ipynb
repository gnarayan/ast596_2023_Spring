{
 "cells": [
  {
   "cell_type": "code",
   "execution_count": 1,
   "id": "bd54b8d8",
   "metadata": {},
   "outputs": [
    {
     "name": "stdout",
     "output_type": "stream",
     "text": [
      "memes\n"
     ]
    }
   ],
   "source": [
    "content = 'homework solution'\n",
    "print(content[2] + content[3] + content[2] + content[3] + content[9])"
   ]
  },
  {
   "cell_type": "code",
   "execution_count": null,
   "id": "9a53e233",
   "metadata": {},
   "outputs": [],
   "source": []
  }
 ],
 "metadata": {
  "kernelspec": {
   "display_name": "Python [conda env:fds] *",
   "language": "python",
   "name": "conda-env-fds-py"
  },
  "language_info": {
   "codemirror_mode": {
    "name": "ipython",
    "version": 3
   },
   "file_extension": ".py",
   "mimetype": "text/x-python",
   "name": "python",
   "nbconvert_exporter": "python",
   "pygments_lexer": "ipython3",
   "version": "3.10.9"
  }
 },
 "nbformat": 4,
 "nbformat_minor": 5
}

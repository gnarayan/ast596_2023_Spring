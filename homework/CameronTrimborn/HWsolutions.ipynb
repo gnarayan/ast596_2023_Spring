{
 "cells": [
  {
   "cell_type": "code",
   "execution_count": null,
   "id": "afe87e7a",
   "metadata": {},
   "outputs": [],
   "source": []
  }
 ],
 "metadata": {
  "kernelspec": {
   "display_name": "Python [conda env:596] *",
   "language": "python",
   "name": "conda-env-596-py"
  },
  "language_info": {
   "codemirror_mode": {
    "name": "ipython",
    "version": 3
   },
   "file_extension": ".py",
   "mimetype": "text/x-python",
   "name": "python",
   "nbconvert_exporter": "python",
   "pygments_lexer": "ipython3",
   "version": "3.10.9"
  }
 },
 "nbformat": 4,
 "nbformat_minor": 5
}

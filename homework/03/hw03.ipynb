{
 "cells": [
  {
   "cell_type": "markdown",
   "id": "18e6f2a3",
   "metadata": {},
   "source": [
    "# Homework set 3\n",
    "\n",
    "(Due Mar 3., 2023 at Noon)\n",
    "\n",
    "Submit your solution notebook in your directory via github PR."
   ]
  },
  {
   "cell_type": "markdown",
   "id": "0e12b4b7",
   "metadata": {},
   "source": [
    "## Problem 1 (100 pts)\n",
    "\n",
    "Our Colloquium speaker a couple of weeks ago, Ashley Villar, has had to use MCMC extensively. She had something like 5,243 objects from Pan-STARRS to analyze after all (https://zenodo.org/record/3974950)\n",
    "\n",
    "You'll only have to deal with two - the two that are in this directory"
   ]
  },
  {
   "cell_type": "code",
   "execution_count": 1,
   "id": "5a5c5528",
   "metadata": {},
   "outputs": [
    {
     "name": "stdout",
     "output_type": "stream",
     "text": [
      "PS1_PS1MD_PSc000098.snana.dat PS1_PS1MD_PSc000174.snana.dat\r\n"
     ]
    }
   ],
   "source": [
    "!ls *snana.dat"
   ]
  },
  {
   "cell_type": "markdown",
   "id": "73c52280",
   "metadata": {},
   "source": [
    "She used equation 1, defined here: https://arxiv.org/abs/1905.07422\n",
    "\n",
    "# $ F= \\begin{cases}\\frac{A+\\beta\\left(t-t_0\\right)}{1+e^{-\\left(t-t_0\\right) / \\tau_{\\text {rise }}}} & t<t_1 \\\\ \\frac{\\left(A+\\beta\\left(t_1-t_0\\right)\\right) e^{-\\left(t-t_1\\right) / \\tau_{\\text {fall }}}}{1+e^{-\\left(t-t_0\\right) / \\tau_{\\text {rise }}}} & t \\geq t_1\\end{cases} $"
   ]
  },
  {
   "cell_type": "markdown",
   "id": "dffcb81f",
   "metadata": {},
   "source": [
    "to model the *flux*, $F$, of a supernova in some band, at times, $t$."
   ]
  },
  {
   "cell_type": "markdown",
   "id": "f4562cdc",
   "metadata": {},
   "source": [
    "You can see the fits Ashley derived here:\n",
    "\n",
    "<img src=\"examples.jpg\">"
   ]
  },
  {
   "cell_type": "markdown",
   "id": "3ebdf176",
   "metadata": {},
   "source": [
    "As Bayesian's we have 4 questions to answer\n",
    "\n",
    "    What's the model?\n",
    "    What's the Likelihood?\n",
    "    What's the Prior?\n",
    "    How do you sample?\n",
    "\n",
    "I've tell you 1 (eqn. 1 in Villar). and you've already guessed 4 (use `emcee`: https://emcee.readthedocs.io/en/stable/). \n",
    "\n",
    "Write some functions to implement the model, likelihood and priors, and use `emcee` to sample the posterior with 20 walkers and however many steps you feel is necessary for the burn-in and chain. (50 pts - 15 each for the model, likelihood, priors and 5 to sample) \n",
    " \n",
    "Show that the posterior is reasonable by generating a corner plot with the `corner` package. (10 pts)\n",
    "\n",
    "Get the median estimate for each parameter, and recreate the plot above from Ashley. Note that she's made 5 random draws from the chain for each passband to give the reader a sense for the uncertainties. (25 pts)\n",
    "\n",
    "Report the auto-correlation length of your chain. Thin it by a factor of 10 and report the auto-correlation length again. (15 pts)"
   ]
  },
  {
   "cell_type": "code",
   "execution_count": null,
   "id": "95ea061c",
   "metadata": {},
   "outputs": [],
   "source": []
  }
 ],
 "metadata": {
  "kernelspec": {
   "display_name": "Python [conda env:yse]",
   "language": "python",
   "name": "conda-env-yse-py"
  },
  "language_info": {
   "codemirror_mode": {
    "name": "ipython",
    "version": 3
   },
   "file_extension": ".py",
   "mimetype": "text/x-python",
   "name": "python",
   "nbconvert_exporter": "python",
   "pygments_lexer": "ipython3",
   "version": "3.7.16"
  }
 },
 "nbformat": 4,
 "nbformat_minor": 5
}

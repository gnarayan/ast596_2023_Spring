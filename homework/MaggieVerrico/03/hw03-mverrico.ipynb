{
 "cells": [
  {
   "cell_type": "markdown",
   "id": "18e6f2a3",
   "metadata": {},
   "source": [
    "# Homework set 3\n",
    "\n",
    "(Due Mar 3., 2023 at Noon)\n",
    "\n",
    "Submit your solution notebook in your directory via github PR."
   ]
  },
  {
   "cell_type": "markdown",
   "id": "0e12b4b7",
   "metadata": {},
   "source": [
    "## Problem 1 (100 pts)\n",
    "\n",
    "Our Colloquium speaker a couple of weeks ago, Ashley Villar, has had to use MCMC extensively. She had something like 5,243 objects from Pan-STARRS to analyze after all (https://zenodo.org/record/3974950)\n",
    "\n",
    "You'll only have to deal with two - the two that are in this directory"
   ]
  },
  {
   "cell_type": "code",
   "execution_count": 2,
   "id": "5a5c5528",
   "metadata": {},
   "outputs": [
    {
     "name": "stdout",
     "output_type": "stream",
     "text": [
      "PS1_PS1MD_PSc000098.snana.dat  PS1_PS1MD_PSc000174.snana.dat\n"
     ]
    }
   ],
   "source": [
    "!ls *snana.dat"
   ]
  },
  {
   "cell_type": "markdown",
   "id": "73c52280",
   "metadata": {},
   "source": [
    "She used equation 1, defined here: https://arxiv.org/abs/1905.07422\n",
    "\n",
    "# $ F= \\begin{cases}\\frac{A+\\beta\\left(t-t_0\\right)}{1+e^{-\\left(t-t_0\\right) / \\tau_{\\text {rise }}}} & t<t_1 \\\\ \\frac{\\left(A+\\beta\\left(t_1-t_0\\right)\\right) e^{-\\left(t-t_1\\right) / \\tau_{\\text {fall }}}}{1+e^{-\\left(t-t_0\\right) / \\tau_{\\text {rise }}}} & t \\geq t_1\\end{cases} $"
   ]
  },
  {
   "cell_type": "markdown",
   "id": "dffcb81f",
   "metadata": {},
   "source": [
    "to model the *flux*, $F$, of a supernova in some band, at times, $t$."
   ]
  },
  {
   "cell_type": "markdown",
   "id": "f4562cdc",
   "metadata": {},
   "source": [
    "You can see the fits Ashley derived here:\n",
    "\n",
    "<img src=\"examples.jpg\">"
   ]
  },
  {
   "cell_type": "markdown",
   "id": "3ebdf176",
   "metadata": {},
   "source": [
    "As Bayesian's we have 4 questions to answer\n",
    "\n",
    "    What's the model?\n",
    "    What's the Likelihood?\n",
    "    What's the Prior?\n",
    "    How do you sample?\n",
    "\n",
    "I've tell you 1 (eqn. 1 in Villar). and you've already guessed 4 (use `emcee`: https://emcee.readthedocs.io/en/stable/). \n",
    "\n",
    "Write some functions to implement the model, likelihood and priors, and use `emcee` to sample the posterior with 20 walkers and however many steps you feel is necessary for the burn-in and chain. (50 pts - 15 each for the model, likelihood, priors and 5 to sample) \n",
    " \n",
    "Show that the posterior is reasonable by generating a corner plot with the `corner` package. (10 pts)\n",
    "\n",
    "Get the median estimate for each parameter, and recreate the plot above from Ashley. Note that she's made 5 random draws from the chain for each passband to give the reader a sense for the uncertainties. (25 pts)\n",
    "\n",
    "Report the auto-correlation length of your chain. Thin it by a factor of 10 and report the auto-correlation length again. (15 pts)"
   ]
  },
  {
   "cell_type": "code",
   "execution_count": 17,
   "id": "95ea061c",
   "metadata": {},
   "outputs": [],
   "source": [
    "import numpy as np\n",
    "import pandas as pd\n",
    "import scipy.stats as stats\n",
    "import astropy\n",
    "import matplotlib.pyplot as plt\n",
    "import emcee\n",
    "import corner\n",
    "from scipy import optimize\n",
    "from scipy.stats import uniform"
   ]
  },
  {
   "cell_type": "code",
   "execution_count": 18,
   "id": "7e6e40a1-a587-4c36-bbc5-43c6ec3defd3",
   "metadata": {},
   "outputs": [],
   "source": [
    "## Write some functions to implement the model, likelihood and priors, and use emcee to sample the posterior with 20 walkers \n",
    "## and however many steps you feel is necessary for the burn-in and chain. \n",
    "\n",
    "## Function for model\n",
    "\n",
    "def villar_model(A,beta,t_0,gamma,t_rise,t_fall,c,t): ## From Villar et al. (2019), eq'n 1\n",
    "    flux = np.where(t<(gamma+t_0),(A+beta*(t-t_0))/(1+np.exp(-(t-t_0)/t_rise)), \n",
    "                    (A+beta*(gamma))*np.exp(-(t-gamma-t_0)/t_fall)/(1+np.exp(-(t-t_0)/t_rise)))\n",
    "    return flux\n",
    "\n",
    "#def N(int1,int2):\n",
    "   # return: \n",
    "    \n",
    "def priors(prior_size):\n",
    "    \n",
    "    ## All priors are a uniform distribution - From Villar et al. (2019), table 1\n",
    "    \n",
    "    A = uniform.rvs(scale=(3*sigma,100*Fmax),size=prior_size) ## Amplitude \n",
    "    beta = uniform.rvs(scale=(-Fmax/150,0),size=prior_size) ## Plateau slope\n",
    "    t_0 = uniform.rvs(scale=(tmin-50,tmax+300),size=prior_size) ## Start time\n",
    "    gamma = uniform.rvs(scale=((2/3)*N(5,5)+(1/3)*N(60,30)),size=prior_size) ## Plateau duration, t_1-t_0\n",
    "    t_rise = uniform.rvs(scale=(0.01,50),size=prior_size) ## Rise time\n",
    "    t_fall = uniform.rvs(scale=(1,300),size=prior_size) ## Decline time\n",
    "    c = uniform.rvs(scale=(-3*sigma,3*sigma),size=prior_size) ## Baseline flux\n",
    "    \n",
    "    return A,beta,t_0,gamma,t_rise,t_fall,c ## input to model\n",
    "\n",
    "def log_likelihood():\n",
    "    return \n",
    "# tmin,tmax,Fmax,sigma,N - nums to define"
   ]
  },
  {
   "cell_type": "code",
   "execution_count": 15,
   "id": "e81cb336-df41-443d-a4f3-d6e16cd953b3",
   "metadata": {},
   "outputs": [
    {
     "data": {
      "text/plain": [
       "[<matplotlib.lines.Line2D at 0x7ff9812e0820>]"
      ]
     },
     "execution_count": 15,
     "metadata": {},
     "output_type": "execute_result"
    },
    {
     "data": {
      "image/png": "[encoded data removed]",
      "text/plain": [
       "<Figure size 640x480 with 1 Axes>"
      ]
     },
     "metadata": {},
     "output_type": "display_data"
    }
   ],
   "source": [
    "plt.plot(np.linspace(0,100,1000),villar_model(10,0.01,5,25,5,30,10,np.linspace(0,100,1000)))"
   ]
  },
  {
   "cell_type": "code",
   "execution_count": 21,
   "id": "ad8b6cbf-7102-4300-8ff5-1d6258841604",
   "metadata": {},
   "outputs": [
    {
     "ename": "ValueError",
     "evalue": "size does not match the broadcast shape of the parameters. 10, (10,), (2,)",
     "output_type": "error",
     "traceback": [
      "\u001b[0;31m---------------------------------------------------------------------------\u001b[0m",
      "\u001b[0;31mValueError\u001b[0m                                Traceback (most recent call last)",
      "Cell \u001b[0;32mIn[21], line 4\u001b[0m\n\u001b[1;32m      2\u001b[0m Fmin\u001b[38;5;241m=\u001b[39m\u001b[38;5;241m1\u001b[39m\n\u001b[1;32m      3\u001b[0m Fmax\u001b[38;5;241m=\u001b[39m\u001b[38;5;241m100\u001b[39m\n\u001b[0;32m----> 4\u001b[0m \u001b[43mpriors\u001b[49m\u001b[43m(\u001b[49m\u001b[38;5;241;43m10\u001b[39;49m\u001b[43m)\u001b[49m\n",
      "Cell \u001b[0;32mIn[18], line 18\u001b[0m, in \u001b[0;36mpriors\u001b[0;34m(prior_size)\u001b[0m\n\u001b[1;32m     14\u001b[0m \u001b[38;5;28;01mdef\u001b[39;00m \u001b[38;5;21mpriors\u001b[39m(prior_size):\n\u001b[1;32m     15\u001b[0m     \n\u001b[1;32m     16\u001b[0m     \u001b[38;5;66;03m## All priors are a uniform distribution - From Villar et al. (2019), table 1\u001b[39;00m\n\u001b[0;32m---> 18\u001b[0m     A \u001b[38;5;241m=\u001b[39m \u001b[43muniform\u001b[49m\u001b[38;5;241;43m.\u001b[39;49m\u001b[43mrvs\u001b[49m\u001b[43m(\u001b[49m\u001b[43mscale\u001b[49m\u001b[38;5;241;43m=\u001b[39;49m\u001b[43m(\u001b[49m\u001b[38;5;241;43m3\u001b[39;49m\u001b[38;5;241;43m*\u001b[39;49m\u001b[43msigma\u001b[49m\u001b[43m,\u001b[49m\u001b[38;5;241;43m100\u001b[39;49m\u001b[38;5;241;43m*\u001b[39;49m\u001b[43mFmax\u001b[49m\u001b[43m)\u001b[49m\u001b[43m,\u001b[49m\u001b[43msize\u001b[49m\u001b[38;5;241;43m=\u001b[39;49m\u001b[43mprior_size\u001b[49m\u001b[43m)\u001b[49m \u001b[38;5;66;03m## Amplitude \u001b[39;00m\n\u001b[1;32m     19\u001b[0m     beta \u001b[38;5;241m=\u001b[39m uniform\u001b[38;5;241m.\u001b[39mrvs(scale\u001b[38;5;241m=\u001b[39m(\u001b[38;5;241m-\u001b[39mFmax\u001b[38;5;241m/\u001b[39m\u001b[38;5;241m150\u001b[39m,\u001b[38;5;241m0\u001b[39m),size\u001b[38;5;241m=\u001b[39mprior_size) \u001b[38;5;66;03m## Plateau slope\u001b[39;00m\n\u001b[1;32m     20\u001b[0m     t_0 \u001b[38;5;241m=\u001b[39m uniform\u001b[38;5;241m.\u001b[39mrvs(scale\u001b[38;5;241m=\u001b[39m(tmin\u001b[38;5;241m-\u001b[39m\u001b[38;5;241m50\u001b[39m,tmax\u001b[38;5;241m+\u001b[39m\u001b[38;5;241m300\u001b[39m),size\u001b[38;5;241m=\u001b[39mprior_size) \u001b[38;5;66;03m## Start time\u001b[39;00m\n",
      "File \u001b[0;32m~/anaconda3/envs/fds/lib/python3.10/site-packages/scipy/stats/_distn_infrastructure.py:1058\u001b[0m, in \u001b[0;36mrv_generic.rvs\u001b[0;34m(self, *args, **kwds)\u001b[0m\n\u001b[1;32m   1056\u001b[0m discrete \u001b[38;5;241m=\u001b[39m kwds\u001b[38;5;241m.\u001b[39mpop(\u001b[38;5;124m'\u001b[39m\u001b[38;5;124mdiscrete\u001b[39m\u001b[38;5;124m'\u001b[39m, \u001b[38;5;28;01mNone\u001b[39;00m)\n\u001b[1;32m   1057\u001b[0m rndm \u001b[38;5;241m=\u001b[39m kwds\u001b[38;5;241m.\u001b[39mpop(\u001b[38;5;124m'\u001b[39m\u001b[38;5;124mrandom_state\u001b[39m\u001b[38;5;124m'\u001b[39m, \u001b[38;5;28;01mNone\u001b[39;00m)\n\u001b[0;32m-> 1058\u001b[0m args, loc, scale, size \u001b[38;5;241m=\u001b[39m \u001b[38;5;28;43mself\u001b[39;49m\u001b[38;5;241;43m.\u001b[39;49m\u001b[43m_parse_args_rvs\u001b[49m\u001b[43m(\u001b[49m\u001b[38;5;241;43m*\u001b[39;49m\u001b[43margs\u001b[49m\u001b[43m,\u001b[49m\u001b[43m \u001b[49m\u001b[38;5;241;43m*\u001b[39;49m\u001b[38;5;241;43m*\u001b[39;49m\u001b[43mkwds\u001b[49m\u001b[43m)\u001b[49m\n\u001b[1;32m   1059\u001b[0m cond \u001b[38;5;241m=\u001b[39m logical_and(\u001b[38;5;28mself\u001b[39m\u001b[38;5;241m.\u001b[39m_argcheck(\u001b[38;5;241m*\u001b[39margs), (scale \u001b[38;5;241m>\u001b[39m\u001b[38;5;241m=\u001b[39m \u001b[38;5;241m0\u001b[39m))\n\u001b[1;32m   1060\u001b[0m \u001b[38;5;28;01mif\u001b[39;00m \u001b[38;5;129;01mnot\u001b[39;00m np\u001b[38;5;241m.\u001b[39mall(cond):\n",
      "File \u001b[0;32m<string>:6\u001b[0m, in \u001b[0;36m_parse_args_rvs\u001b[0;34m(self, loc, scale, size)\u001b[0m\n",
      "File \u001b[0;32m~/anaconda3/envs/fds/lib/python3.10/site-packages/scipy/stats/_distn_infrastructure.py:939\u001b[0m, in \u001b[0;36mrv_generic._argcheck_rvs\u001b[0;34m(self, *args, **kwargs)\u001b[0m\n\u001b[1;32m    936\u001b[0m ok \u001b[38;5;241m=\u001b[39m \u001b[38;5;28mall\u001b[39m([bcdim \u001b[38;5;241m==\u001b[39m \u001b[38;5;241m1\u001b[39m \u001b[38;5;129;01mor\u001b[39;00m bcdim \u001b[38;5;241m==\u001b[39m szdim\n\u001b[1;32m    937\u001b[0m           \u001b[38;5;28;01mfor\u001b[39;00m (bcdim, szdim) \u001b[38;5;129;01min\u001b[39;00m \u001b[38;5;28mzip\u001b[39m(bcast_shape, size_)])\n\u001b[1;32m    938\u001b[0m \u001b[38;5;28;01mif\u001b[39;00m \u001b[38;5;129;01mnot\u001b[39;00m ok:\n\u001b[0;32m--> 939\u001b[0m     \u001b[38;5;28;01mraise\u001b[39;00m \u001b[38;5;167;01mValueError\u001b[39;00m(\u001b[38;5;124m\"\u001b[39m\u001b[38;5;124msize does not match the broadcast shape of \u001b[39m\u001b[38;5;124m\"\u001b[39m\n\u001b[1;32m    940\u001b[0m                      \u001b[38;5;124m\"\u001b[39m\u001b[38;5;124mthe parameters. \u001b[39m\u001b[38;5;132;01m%s\u001b[39;00m\u001b[38;5;124m, \u001b[39m\u001b[38;5;132;01m%s\u001b[39;00m\u001b[38;5;124m, \u001b[39m\u001b[38;5;132;01m%s\u001b[39;00m\u001b[38;5;124m\"\u001b[39m \u001b[38;5;241m%\u001b[39m (size, size_,\n\u001b[1;32m    941\u001b[0m                                                      bcast_shape))\n\u001b[1;32m    943\u001b[0m param_bcast \u001b[38;5;241m=\u001b[39m all_bcast[:\u001b[38;5;241m-\u001b[39m\u001b[38;5;241m2\u001b[39m]\n\u001b[1;32m    944\u001b[0m loc_bcast \u001b[38;5;241m=\u001b[39m all_bcast[\u001b[38;5;241m-\u001b[39m\u001b[38;5;241m2\u001b[39m]\n",
      "\u001b[0;31mValueError\u001b[0m: size does not match the broadcast shape of the parameters. 10, (10,), (2,)"
     ]
    }
   ],
   "source": [
    "sigma=1\n",
    "Fmin=1\n",
    "Fmax=100\n",
    "priors(10)"
   ]
  },
  {
   "cell_type": "code",
   "execution_count": null,
   "id": "f7c503c2-7fd5-4d95-9a5b-26e329dc0279",
   "metadata": {},
   "outputs": [],
   "source": []
  }
 ],
 "metadata": {
  "kernelspec": {
   "display_name": "Python [conda env:fds] *",
   "language": "python",
   "name": "conda-env-fds-py"
  },
  "language_info": {
   "codemirror_mode": {
    "name": "ipython",
    "version": 3
   },
   "file_extension": ".py",
   "mimetype": "text/x-python",
   "name": "python",
   "nbconvert_exporter": "python",
   "pygments_lexer": "ipython3",
   "version": "3.10.9"
  }
 },
 "nbformat": 4,
 "nbformat_minor": 5
}

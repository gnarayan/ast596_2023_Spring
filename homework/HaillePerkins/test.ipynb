{
 "cells": [
  {
   "cell_type": "markdown",
   "id": "6cab4686-4248-4c82-9dbf-c3aedaaf3061",
   "metadata": {},
   "source": [
    "## Here is where my solution would go"
   ]
  },
  {
   "cell_type": "code",
   "execution_count": 1,
   "id": "340c7ef8-1ffe-4d13-b129-53473d030b3c",
   "metadata": {},
   "outputs": [
    {
     "name": "stdout",
     "output_type": "stream",
     "text": [
      "1\n"
     ]
    }
   ],
   "source": [
    "x = 1\n",
    "\n",
    "print(x)"
   ]
  },
  {
   "cell_type": "code",
   "execution_count": null,
   "id": "cbd544cb-b924-4279-957b-ca672f5cc135",
   "metadata": {},
   "outputs": [],
   "source": []
  }
 ],
 "metadata": {
  "kernelspec": {
   "display_name": "Python 3 (ipykernel)",
   "language": "python",
   "name": "python3"
  },
  "language_info": {
   "codemirror_mode": {
    "name": "ipython",
    "version": 3
   },
   "file_extension": ".py",
   "mimetype": "text/x-python",
   "name": "python",
   "nbconvert_exporter": "python",
   "pygments_lexer": "ipython3",
   "version": "3.9.7"
  }
 },
 "nbformat": 4,
 "nbformat_minor": 5
}

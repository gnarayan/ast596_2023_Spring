{
 "cells": [
  {
   "cell_type": "code",
   "execution_count": 13,
   "id": "d27ff1a5-9210-4e9b-a7ee-171fb71cb7ca",
   "metadata": {},
   "outputs": [],
   "source": [
    "import matplotlib.pyplot as plt\n",
    "import pandas as pd\n",
    "import h5py\n",
    "import numpy as np"
   ]
  },
  {
   "cell_type": "code",
   "execution_count": 8,
   "id": "813d322e-3cb2-4d5d-b395-f3574ff92acb",
   "metadata": {},
   "outputs": [],
   "source": [
    "file = h5py.File('/home/meverri/Desktop/ast596_2023_Spring/exercises/sdssj120650-20130310-total_mcmc.hdf5')"
   ]
  },
  {
   "cell_type": "code",
   "execution_count": 11,
   "id": "fd700569-cde0-4b20-9d22-7cd20f35ffc1",
   "metadata": {},
   "outputs": [
    {
     "data": {
      "text/plain": [
       "<KeysViewHDF5 ['chain', 'params']>"
      ]
     },
     "execution_count": 11,
     "metadata": {},
     "output_type": "execute_result"
    }
   ],
   "source": [
    "file.keys()"
   ]
  },
  {
   "cell_type": "code",
   "execution_count": 17,
   "id": "0b6e70c4-13a2-4208-a437-1b8231c5d353",
   "metadata": {},
   "outputs": [],
   "source": [
    "chain = np.array(file['chain'])\n",
    "params = np.array(file['params'])"
   ]
  },
  {
   "cell_type": "code",
   "execution_count": 18,
   "id": "4bb8b190-005f-4c5a-8d0a-aaf0a94deaaf",
   "metadata": {},
   "outputs": [
    {
     "data": {
      "text/plain": [
       "array(['av', 'dl', 'fsig', 'fw', 'fwhm', 'logg', 'mu', 'names', 'rv',\n",
       "       'tau', 'teff'], dtype='<U5')"
      ]
     },
     "execution_count": 18,
     "metadata": {},
     "output_type": "execute_result"
    }
   ],
   "source": [
    "params"
   ]
  },
  {
   "cell_type": "code",
   "execution_count": 22,
   "id": "93079b45-7ce1-43c1-a540-8a44ad944454",
   "metadata": {},
   "outputs": [
    {
     "data": {
      "text/plain": [
       "array(['afrac', 'lnprob', 'names', 'position', 'tswap_afrac'],\n",
       "      dtype='<U11')"
      ]
     },
     "execution_count": 22,
     "metadata": {},
     "output_type": "execute_result"
    }
   ],
   "source": [
    "chain"
   ]
  },
  {
   "cell_type": "code",
   "execution_count": null,
   "id": "e078d2ed-b2fe-4068-a690-d31844d5c1fc",
   "metadata": {},
   "outputs": [],
   "source": [
    "plt.plot(ch"
   ]
  }
 ],
 "metadata": {
  "kernelspec": {
   "display_name": "Python [conda env:fds] *",
   "language": "python",
   "name": "conda-env-fds-py"
  },
  "language_info": {
   "codemirror_mode": {
    "name": "ipython",
    "version": 3
   },
   "file_extension": ".py",
   "mimetype": "text/x-python",
   "name": "python",
   "nbconvert_exporter": "python",
   "pygments_lexer": "ipython3",
   "version": "3.10.9"
  }
 },
 "nbformat": 4,
 "nbformat_minor": 5
}
